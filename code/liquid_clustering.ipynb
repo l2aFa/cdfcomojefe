{
 "cells": [
  {
   "cell_type": "markdown",
   "id": "755641b0-0fe6-44fe-81ec-101fc1fbe801",
   "metadata": {
    "microsoft": {
     "language": "python",
     "language_group": "synapse_pyspark"
    },
    "nteract": {
     "transient": {
      "deleting": false
     }
    }
   },
   "source": [
    "# 🧪 **Liquid clustering** 🧪\n",
    "\n",
    "En este notebook, veremos como aplicar [la característica de liquid clustering](https://docs.delta.io/latest/delta-clustering.html) a nuestras tablas para poder mejorar el rendimiento de las operaciones y consultas realizadas sobre ellas dentro de [Microsoft Fabric](https://www.vernegroup.com/actualidad/tecnologia/microsoft-fabric-liquid-clustering/).\n",
    "\n",
    "⚠️ Ten en cuenta que para poder ejecutar la mayoría de pasos de este cuaderno, necesitarás:\n",
    "- Tener un lakehouse agregado a él. Para ello, puedes seguir [los pasos indicados aquí](https://learn.microsoft.com/es-es/fabric/data-engineering/lakehouse-notebook-explore).\n",
    "- Contar con el runtime 1.3 de Fabric activado en el área de trabajo.\n",
    "- Haber cargado previamente el dataset de NYC_Taxi dentro de tu lakehouse. Puedes hacerlo mediante [Fabric Data Factory](https://learn.microsoft.com/es-es/fabric/data-factory/create-first-pipeline-with-sample-data).\n"
   ]
  },
  {
   "cell_type": "markdown",
   "id": "e86a097b-95dd-4db9-b5d3-8c489145c503",
   "metadata": {
    "microsoft": {
     "language": "python",
     "language_group": "synapse_pyspark"
    },
    "nteract": {
     "transient": {
      "deleting": false
     }
    }
   },
   "source": [
    "## Crear tabla con liquid clustering configurado\n",
    "---\n",
    "\n",
    "Además del runtime de Spark 1.3, necesitamos alterar las propiedades _**minReaderVersion**_ y **_minWriterVersion_** dentro de la tabla.\n",
    "\n",
    "🚨 Debemos hacerlo en dos instrucciones separadas o no registra bien los cambios."
   ]
  },
  {
   "cell_type": "code",
   "execution_count": 66,
   "id": "f03b9a48-1241-4253-a3be-f09ef9d9164b",
   "metadata": {
    "collapsed": false,
    "jupyter": {
     "outputs_hidden": false,
     "source_hidden": false
    },
    "microsoft": {
     "language": "sparksql",
     "language_group": "synapse_pyspark"
    },
    "nteract": {
     "transient": {
      "deleting": false
     }
    }
   },
   "outputs": [
    {
     "data": {
      "application/vnd.livy.statement-meta+json": {
       "execution_finish_time": "2024-10-12T16:50:44.8203147Z",
       "execution_start_time": "2024-10-12T16:50:39.0007512Z",
       "livy_statement_state": "available",
       "normalized_state": "finished",
       "parent_msg_id": "00a0db4d-6b5b-4b22-a290-8ce559dc2059",
       "queued_time": "2024-10-12T16:50:38.5525824Z",
       "session_id": "7da31ac3-36e8-4215-ac8d-c60f2ba6ed8d",
       "session_start_time": null,
       "spark_pool": null,
       "state": "finished",
       "statement_id": 78,
       "statement_ids": [
        77,
        78
       ]
      },
      "text/plain": [
       "StatementMeta(, 7da31ac3-36e8-4215-ac8d-c60f2ba6ed8d, 78, Finished, Available, Finished)"
      ]
     },
     "metadata": {},
     "output_type": "display_data"
    },
    {
     "data": {
      "application/vnd.synapse.sparksql-result+json": {
       "data": [],
       "schema": {
        "fields": [],
        "type": "struct"
       }
      },
      "text/plain": [
       "<Spark SQL result set with 0 rows and 0 fields>"
      ]
     },
     "execution_count": 66,
     "metadata": {},
     "output_type": "execute_result"
    },
    {
     "data": {
      "application/vnd.synapse.sparksql-result+json": {
       "data": [],
       "schema": {
        "fields": [],
        "type": "struct"
       }
      },
      "text/plain": [
       "<Spark SQL result set with 0 rows and 0 fields>"
      ]
     },
     "execution_count": 66,
     "metadata": {},
     "output_type": "execute_result"
    }
   ],
   "source": [
    "%%sql\n",
    "\n",
    "-- Creación de la tabla incluyendo clustering\n",
    "CREATE OR REPLACE TABLE nyc_taxi_clustered (\n",
    "    vendorID int, \n",
    "    lpepPickupDatetime timestamp,\n",
    "    lpepDropoffDatetime timestamp,\n",
    "    passengerCount int,\n",
    "    tripDistance double,\n",
    "    puLocationId string,\n",
    "    doLocationId string,\n",
    "    pickupLongitude double,\n",
    "    pickupLatitude double,\n",
    "    dropoffLongitude double,\n",
    "    dropoffLatitude double,\n",
    "    rateCodeId int,\n",
    "    storeAndFwdFlag string,\n",
    "    paymentType int,\n",
    "    fareAmount double,\n",
    "    extra double,\n",
    "    mtaTax double,\n",
    "    improvementSurcharge string,\n",
    "    tipAmount double,\n",
    "    tollsAmount double,\n",
    "    ehailFee double,\n",
    "    totalAmount double,\n",
    "    tripType int\n",
    "    ) \n",
    "CLUSTER BY (\n",
    "    vendorID,\n",
    "    lpepPickupDatetime,\n",
    "    lpepDropoffDatetime\n",
    ");\n",
    "\n",
    "-- Establecer las propiedades necesarias\n",
    "ALTER TABLE nyc_taxi_clustered SET TBLPROPERTIES (\n",
    "    'delta.minReaderVersion' = '2',\n",
    "    'delta.minWriterVersion' = '7'\n",
    ");"
   ]
  },
  {
   "cell_type": "markdown",
   "id": "a3489398-d6c6-4e23-a3fa-391268c57e04",
   "metadata": {
    "microsoft": {
     "language": "python",
     "language_group": "synapse_pyspark"
    },
    "nteract": {
     "transient": {
      "deleting": false
     }
    }
   },
   "source": [
    "### Comprobar propiedades y clustering configurado\n",
    "---\n",
    "\n",
    "Gracias al comando **_DESCRIBE DETAIL_**, podremos comprobar la configuración establecida dentro de los campos **_clusteringColumns_**, **_minReaderVersion_**, **_minWriterVersion_** y **_tableFeatures_**."
   ]
  },
  {
   "cell_type": "code",
   "execution_count": 73,
   "id": "969777bc-facf-4186-9997-3f83ddbeb07b",
   "metadata": {
    "collapsed": false,
    "jupyter": {
     "outputs_hidden": false,
     "source_hidden": false
    },
    "microsoft": {
     "language": "sparksql",
     "language_group": "synapse_pyspark"
    },
    "nteract": {
     "transient": {
      "deleting": false
     }
    }
   },
   "outputs": [
    {
     "data": {
      "application/vnd.livy.statement-meta+json": {
       "execution_finish_time": "2024-10-12T17:07:36.6315326Z",
       "execution_start_time": "2024-10-12T17:07:35.7305581Z",
       "livy_statement_state": "available",
       "normalized_state": "finished",
       "parent_msg_id": "f18ba160-aa27-4d6e-a920-faafc1888970",
       "queued_time": "2024-10-12T17:07:35.195283Z",
       "session_id": "7da31ac3-36e8-4215-ac8d-c60f2ba6ed8d",
       "session_start_time": null,
       "spark_pool": null,
       "state": "finished",
       "statement_id": 85,
       "statement_ids": [
        85
       ]
      },
      "text/plain": [
       "StatementMeta(, 7da31ac3-36e8-4215-ac8d-c60f2ba6ed8d, 85, Finished, Available, Finished)"
      ]
     },
     "metadata": {},
     "output_type": "display_data"
    },
    {
     "data": {
      "application/vnd.synapse.sparksql-result+json": {
       "data": [
        [
         "delta",
         "52ecb202-9d1e-4d51-81b7-c723cec57492",
         "spark_catalog.lh_cdf.nyc_taxi_clustered",
         null,
         "abfss://8bd52b1d-db3d-4f78-b2c2-d3d23166b8bb@onelake.dfs.fabric.microsoft.com/64ae3655-3253-4514-bded-5b4f456e30d2/Tables/nyc_taxi_clustered",
         "2024-10-12T16:50:39Z",
         "2024-10-12T16:55:57Z",
         [],
         [
          "vendorID",
          "lpepPickupDatetime",
          "lpepDropoffDatetime"
         ],
         "1",
         "1847532751",
         {
          "delta.parquet.vorder.enabled": "true"
         },
         2,
         7,
         [
          "clustering",
          "domainMetadata"
         ]
        ]
       ],
       "schema": {
        "fields": [
         {
          "metadata": {},
          "name": "format",
          "nullable": true,
          "type": "string"
         },
         {
          "metadata": {},
          "name": "id",
          "nullable": true,
          "type": "string"
         },
         {
          "metadata": {},
          "name": "name",
          "nullable": true,
          "type": "string"
         },
         {
          "metadata": {},
          "name": "description",
          "nullable": true,
          "type": "string"
         },
         {
          "metadata": {},
          "name": "location",
          "nullable": true,
          "type": "string"
         },
         {
          "metadata": {},
          "name": "createdAt",
          "nullable": true,
          "type": "timestamp"
         },
         {
          "metadata": {},
          "name": "lastModified",
          "nullable": true,
          "type": "timestamp"
         },
         {
          "metadata": {},
          "name": "partitionColumns",
          "nullable": true,
          "type": {
           "containsNull": true,
           "elementType": "string",
           "type": "array"
          }
         },
         {
          "metadata": {},
          "name": "clusteringColumns",
          "nullable": true,
          "type": {
           "containsNull": true,
           "elementType": "string",
           "type": "array"
          }
         },
         {
          "metadata": {},
          "name": "numFiles",
          "nullable": true,
          "type": "long"
         },
         {
          "metadata": {},
          "name": "sizeInBytes",
          "nullable": true,
          "type": "long"
         },
         {
          "metadata": {},
          "name": "properties",
          "nullable": true,
          "type": {
           "keyType": "string",
           "type": "map",
           "valueContainsNull": true,
           "valueType": "string"
          }
         },
         {
          "metadata": {},
          "name": "minReaderVersion",
          "nullable": true,
          "type": "integer"
         },
         {
          "metadata": {},
          "name": "minWriterVersion",
          "nullable": true,
          "type": "integer"
         },
         {
          "metadata": {},
          "name": "tableFeatures",
          "nullable": true,
          "type": {
           "containsNull": true,
           "elementType": "string",
           "type": "array"
          }
         }
        ],
        "type": "struct"
       }
      },
      "text/plain": [
       "<Spark SQL result set with 1 rows and 15 fields>"
      ]
     },
     "execution_count": 73,
     "metadata": {},
     "output_type": "execute_result"
    }
   ],
   "source": [
    "%%sql\n",
    "\n",
    "DESCRIBE DETAIL nyc_taxi_clustered;"
   ]
  },
  {
   "cell_type": "markdown",
   "id": "5ba28bc0-6175-4a20-aa8f-e9ac57ca1237",
   "metadata": {
    "microsoft": {
     "language": "python",
     "language_group": "synapse_pyspark"
    },
    "nteract": {
     "transient": {
      "deleting": false
     }
    }
   },
   "source": [
    "### Cargamos el contenido del dataset a la tabla\n",
    "---\n",
    "\n",
    "Para cargar el contenido, disponemos de varias formas:\n",
    "- Podemos realizar un volcado mediante el modo **_append_**\n",
    "- Podemos realizar un **_SELECT INTO_** a través de Spark SQL\n",
    "- El comando merge también respeta la configuración establecida\n",
    "\n",
    "🚨 Si volcamos datos en modo overwrite, la tabla se recrea y pierde la configuración establecida de liquid clustering."
   ]
  },
  {
   "cell_type": "code",
   "execution_count": 68,
   "id": "ded32e92-33d0-413a-89a8-306325b7edb7",
   "metadata": {
    "jupyter": {
     "outputs_hidden": false,
     "source_hidden": false
    },
    "microsoft": {
     "language": "python",
     "language_group": "synapse_pyspark"
    },
    "nteract": {
     "transient": {
      "deleting": false
     }
    }
   },
   "outputs": [
    {
     "data": {
      "application/vnd.livy.statement-meta+json": {
       "execution_finish_time": "2024-10-12T16:52:08.8567894Z",
       "execution_start_time": "2024-10-12T16:50:47.4750712Z",
       "livy_statement_state": "available",
       "normalized_state": "finished",
       "parent_msg_id": "6c03e274-cc21-43ed-9d16-9883a7ca38c4",
       "queued_time": "2024-10-12T16:50:37.6142741Z",
       "session_id": "7da31ac3-36e8-4215-ac8d-c60f2ba6ed8d",
       "session_start_time": null,
       "spark_pool": null,
       "state": "finished",
       "statement_id": 80,
       "statement_ids": [
        80
       ]
      },
      "text/plain": [
       "StatementMeta(, 7da31ac3-36e8-4215-ac8d-c60f2ba6ed8d, 80, Finished, Available, Finished)"
      ]
     },
     "metadata": {},
     "output_type": "display_data"
    },
    {
     "data": {
      "text/plain": [
       "DataFrame[]"
      ]
     },
     "execution_count": 56,
     "metadata": {},
     "output_type": "execute_result"
    }
   ],
   "source": [
    "# Leemos el contenido del dataset\n",
    "nyc_taxi_df = spark.read.parquet(\"Files/raw/20240930/NYC_taxi.parquet\")\n",
    "\n",
    "# Inserción en la tabla vía append\n",
    "#nyc_taxi_df.write.mode(\"append\").saveAsTable(\"nyc_taxi_clustered\")\n",
    "\n",
    "# Inserción vía Spark SQL\n",
    "spark.sql(\"INSERT INTO nyc_taxi_clustered SELECT * FROM {spark_df}\",\\\n",
    "    spark_df = nyc_taxi_df)"
   ]
  },
  {
   "cell_type": "markdown",
   "id": "c604dadd-616a-4899-97b5-8fa065502a34",
   "metadata": {
    "microsoft": {
     "language": "python",
     "language_group": "synapse_pyspark"
    },
    "nteract": {
     "transient": {
      "deleting": false
     }
    }
   },
   "source": [
    "### Comprobamos que todo sigue como debe\n",
    "---"
   ]
  },
  {
   "cell_type": "code",
   "execution_count": 69,
   "id": "9240eb88-1bd5-4ca5-884a-504b5d4b9eda",
   "metadata": {
    "collapsed": false,
    "jupyter": {
     "outputs_hidden": false,
     "source_hidden": false
    },
    "microsoft": {
     "language": "sparksql",
     "language_group": "synapse_pyspark"
    },
    "nteract": {
     "transient": {
      "deleting": false
     }
    }
   },
   "outputs": [
    {
     "data": {
      "application/vnd.livy.statement-meta+json": {
       "execution_finish_time": "2024-10-12T16:52:11.8816641Z",
       "execution_start_time": "2024-10-12T16:52:09.443145Z",
       "livy_statement_state": "available",
       "normalized_state": "finished",
       "parent_msg_id": "8f1dbd97-6205-4e94-936f-543d018eff23",
       "queued_time": "2024-10-12T16:50:37.6497223Z",
       "session_id": "7da31ac3-36e8-4215-ac8d-c60f2ba6ed8d",
       "session_start_time": null,
       "spark_pool": null,
       "state": "finished",
       "statement_id": 81,
       "statement_ids": [
        81
       ]
      },
      "text/plain": [
       "StatementMeta(, 7da31ac3-36e8-4215-ac8d-c60f2ba6ed8d, 81, Finished, Available, Finished)"
      ]
     },
     "metadata": {},
     "output_type": "display_data"
    },
    {
     "data": {
      "application/vnd.synapse.sparksql-result+json": {
       "data": [
        [
         "delta",
         "52ecb202-9d1e-4d51-81b7-c723cec57492",
         "spark_catalog.lh_cdf.nyc_taxi_clustered",
         null,
         "abfss://8bd52b1d-db3d-4f78-b2c2-d3d23166b8bb@onelake.dfs.fabric.microsoft.com/64ae3655-3253-4514-bded-5b4f456e30d2/Tables/nyc_taxi_clustered",
         "2024-10-12T16:50:39Z",
         "2024-10-12T16:52:05Z",
         [],
         [
          "vendorID",
          "lpepPickupDatetime",
          "lpepDropoffDatetime"
         ],
         "4",
         "1699036819",
         {
          "delta.parquet.vorder.enabled": "true"
         },
         2,
         7,
         [
          "clustering",
          "domainMetadata"
         ]
        ]
       ],
       "schema": {
        "fields": [
         {
          "metadata": {},
          "name": "format",
          "nullable": true,
          "type": "string"
         },
         {
          "metadata": {},
          "name": "id",
          "nullable": true,
          "type": "string"
         },
         {
          "metadata": {},
          "name": "name",
          "nullable": true,
          "type": "string"
         },
         {
          "metadata": {},
          "name": "description",
          "nullable": true,
          "type": "string"
         },
         {
          "metadata": {},
          "name": "location",
          "nullable": true,
          "type": "string"
         },
         {
          "metadata": {},
          "name": "createdAt",
          "nullable": true,
          "type": "timestamp"
         },
         {
          "metadata": {},
          "name": "lastModified",
          "nullable": true,
          "type": "timestamp"
         },
         {
          "metadata": {},
          "name": "partitionColumns",
          "nullable": true,
          "type": {
           "containsNull": true,
           "elementType": "string",
           "type": "array"
          }
         },
         {
          "metadata": {},
          "name": "clusteringColumns",
          "nullable": true,
          "type": {
           "containsNull": true,
           "elementType": "string",
           "type": "array"
          }
         },
         {
          "metadata": {},
          "name": "numFiles",
          "nullable": true,
          "type": "long"
         },
         {
          "metadata": {},
          "name": "sizeInBytes",
          "nullable": true,
          "type": "long"
         },
         {
          "metadata": {},
          "name": "properties",
          "nullable": true,
          "type": {
           "keyType": "string",
           "type": "map",
           "valueContainsNull": true,
           "valueType": "string"
          }
         },
         {
          "metadata": {},
          "name": "minReaderVersion",
          "nullable": true,
          "type": "integer"
         },
         {
          "metadata": {},
          "name": "minWriterVersion",
          "nullable": true,
          "type": "integer"
         },
         {
          "metadata": {},
          "name": "tableFeatures",
          "nullable": true,
          "type": {
           "containsNull": true,
           "elementType": "string",
           "type": "array"
          }
         }
        ],
        "type": "struct"
       }
      },
      "text/plain": [
       "<Spark SQL result set with 1 rows and 15 fields>"
      ]
     },
     "execution_count": 69,
     "metadata": {},
     "output_type": "execute_result"
    }
   ],
   "source": [
    "%%sql\n",
    "\n",
    "DESCRIBE DETAIL nyc_taxi_clustered;"
   ]
  }
 ],
 "metadata": {
  "dependencies": {
   "lakehouse": {}
  },
  "kernel_info": {
   "name": "synapse_pyspark"
  },
  "kernelspec": {
   "display_name": "Synapse PySpark",
   "language": "Python",
   "name": "synapse_pyspark"
  },
  "language_info": {
   "name": "python"
  },
  "microsoft": {
   "language": "python",
   "language_group": "synapse_pyspark",
   "ms_spell_check": {
    "ms_spell_check_language": "es"
   }
  },
  "nteract": {
   "version": "nteract-front-end@1.0.0"
  },
  "spark_compute": {
   "compute_id": "/trident/default",
   "session_options": {
    "conf": {
     "spark.synapse.nbs.session.timeout": "1200000"
    }
   }
  },
  "synapse_widget": {
   "state": {},
   "version": "0.1"
  },
  "widgets": {}
 },
 "nbformat": 4,
 "nbformat_minor": 5
}
